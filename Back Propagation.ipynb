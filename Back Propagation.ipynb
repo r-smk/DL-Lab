{
 "cells": [
  {
   "cell_type": "code",
   "execution_count": 1,
   "id": "325dd230",
   "metadata": {},
   "outputs": [],
   "source": [
    "import numpy as np"
   ]
  },
  {
   "cell_type": "code",
   "execution_count": 2,
   "id": "54910064",
   "metadata": {},
   "outputs": [],
   "source": [
    "X = np.array(([2,9],[1,5],[3,6]),dtype=float)\n",
    "Y = np.array(([92],[86],[89]))\n"
   ]
  },
  {
   "cell_type": "code",
   "execution_count": 3,
   "id": "ff90e201",
   "metadata": {},
   "outputs": [],
   "source": [
    "X = X/np.amax(X,axis=0)\n",
    "Y = Y/100"
   ]
  },
  {
   "cell_type": "code",
   "execution_count": 4,
   "id": "af61aee3",
   "metadata": {},
   "outputs": [
    {
     "name": "stdout",
     "output_type": "stream",
     "text": [
      "[[0.66666667 1.        ]\n",
      " [0.33333333 0.55555556]\n",
      " [1.         0.66666667]]\n"
     ]
    }
   ],
   "source": [
    "print(X)"
   ]
  },
  {
   "cell_type": "code",
   "execution_count": 5,
   "id": "29a765f7",
   "metadata": {},
   "outputs": [
    {
     "name": "stdout",
     "output_type": "stream",
     "text": [
      "[[0.92]\n",
      " [0.86]\n",
      " [0.89]]\n"
     ]
    }
   ],
   "source": [
    "print(Y)"
   ]
  },
  {
   "cell_type": "code",
   "execution_count": 6,
   "id": "78d71c47",
   "metadata": {},
   "outputs": [],
   "source": [
    "def sigmoid(x):\n",
    "    return 1/(1+np.exp(-x))\n",
    "def derivatives_sigmoid(x):\n",
    "    return x*(1-x)"
   ]
  },
  {
   "cell_type": "code",
   "execution_count": 7,
   "id": "ef27d312",
   "metadata": {},
   "outputs": [],
   "source": [
    "epoch = 7000\n",
    "learning_rate = 0.25\n",
    "inputlayer_neurons = 2\n",
    "hiddenlayer_neurons = 3\n",
    "output_neurons = 1"
   ]
  },
  {
   "cell_type": "code",
   "execution_count": 9,
   "id": "fefc0a2b",
   "metadata": {},
   "outputs": [
    {
     "name": "stdout",
     "output_type": "stream",
     "text": [
      "[[0.55682938 0.68374996 0.06650186]\n",
      " [0.32149447 0.03139366 0.99231733]]\n",
      "[[0.93296561 0.2702768  0.81753279]]\n"
     ]
    }
   ],
   "source": [
    "wh = np.random.uniform(size=(inputlayer_neurons,hiddenlayer_neurons))\n",
    "print(wh)\n",
    "bh = np.random.uniform(size=(1,hiddenlayer_neurons))\n",
    "print(bh)"
   ]
  },
  {
   "cell_type": "code",
   "execution_count": 10,
   "id": "2fb1d110",
   "metadata": {},
   "outputs": [
    {
     "name": "stdout",
     "output_type": "stream",
     "text": [
      "[[0.95351274]\n",
      " [0.28680407]\n",
      " [0.0268874 ]]\n",
      "[[0.34559299]]\n"
     ]
    }
   ],
   "source": [
    "wout = np.random.uniform(size=(hiddenlayer_neurons,output_neurons))\n",
    "print(wout)\n",
    "bout = np.random.uniform(size=(1,output_neurons))\n",
    "print(bout)"
   ]
  },
  {
   "cell_type": "code",
   "execution_count": 13,
   "id": "bca76830",
   "metadata": {},
   "outputs": [],
   "source": [
    "for i in range(epoch):\n",
    "    hinp1 = np.dot(X,wh)\n",
    "    hinp = hinp1+bh\n",
    "    hlayer_act = sigmoid(hinp)\n",
    "    outinp1 = np.dot(hlayer_act,wout)\n",
    "    outinp = outinp1+bout\n",
    "    output = sigmoid(outinp)\n",
    "    EO = Y - output\n",
    "    outgrad = derivatives_sigmoid(output)\n",
    "    d_output = EO*outgrad\n",
    "    EH = d_output.dot(wout.T)\n",
    "    hiddengrad = derivatives_sigmoid(hlayer_act)\n",
    "    d_hiddenlayer = EH*hiddengrad\n",
    "    wout += hlayer_act.T.dot(d_output)* learning_rate\n",
    "    wh += X.T.dot(d_hiddenlayer)*learning_rate"
   ]
  },
  {
   "cell_type": "code",
   "execution_count": 14,
   "id": "5889ae7d",
   "metadata": {},
   "outputs": [
    {
     "name": "stdout",
     "output_type": "stream",
     "text": [
      "Input = \n",
      "[[0.66666667 1.        ]\n",
      " [0.33333333 0.55555556]\n",
      " [1.         0.66666667]]\n"
     ]
    }
   ],
   "source": [
    "print(\"Input = \\n\"+str(X))"
   ]
  },
  {
   "cell_type": "code",
   "execution_count": 15,
   "id": "31f2d566",
   "metadata": {},
   "outputs": [
    {
     "name": "stdout",
     "output_type": "stream",
     "text": [
      "Actual Output:\n",
      "[[0.92]\n",
      " [0.86]\n",
      " [0.89]]\n"
     ]
    }
   ],
   "source": [
    "print(\"Actual Output:\\n\"+str(Y))"
   ]
  },
  {
   "cell_type": "code",
   "execution_count": 16,
   "id": "1f9cd1be",
   "metadata": {},
   "outputs": [
    {
     "name": "stdout",
     "output_type": "stream",
     "text": [
      "Predicted Output:\n",
      "[[0.89421261]\n",
      " [0.88023239]\n",
      " [0.89521837]]\n"
     ]
    }
   ],
   "source": [
    "print(\"Predicted Output:\\n\"+str(output))"
   ]
  }
 ],
 "metadata": {
  "kernelspec": {
   "display_name": "Python 3",
   "language": "python",
   "name": "python3"
  },
  "language_info": {
   "codemirror_mode": {
    "name": "ipython",
    "version": 3
   },
   "file_extension": ".py",
   "mimetype": "text/x-python",
   "name": "python",
   "nbconvert_exporter": "python",
   "pygments_lexer": "ipython3",
   "version": "3.8.8"
  }
 },
 "nbformat": 4,
 "nbformat_minor": 5
}
