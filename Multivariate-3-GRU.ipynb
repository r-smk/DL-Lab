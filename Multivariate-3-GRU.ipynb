{
 "cells": [
  {
   "cell_type": "code",
   "execution_count": 6,
   "metadata": {
    "colab": {},
    "colab_type": "code",
    "id": "S19jleua1_GE"
   },
   "outputs": [
    {
     "name": "stdout",
     "output_type": "stream",
     "text": [
      "3.6.8 |Anaconda, Inc.| (default, Feb 11 2019, 15:03:47) [MSC v.1915 64 bit (AMD64)]\n"
     ]
    }
   ],
   "source": [
    "import sys\n",
    "print(sys.version)"
   ]
  },
  {
   "cell_type": "code",
   "execution_count": 1,
   "metadata": {
    "colab": {},
    "colab_type": "code",
    "id": "XGXh32Yl3E5s"
   },
   "outputs": [
    {
     "name": "stderr",
     "output_type": "stream",
     "text": [
      "Using TensorFlow backend.\n"
     ]
    }
   ],
   "source": [
    "# Importing dependencies\n",
    "import numpy as np\n",
    "np.random.seed(1)\n",
    "from tensorflow import set_random_seed\n",
    "set_random_seed(2)\n",
    "import pandas as pd\n",
    "import matplotlib.pyplot as plt\n",
    "from keras.models import Sequential, load_model\n",
    "from keras.layers.core import Dense\n",
    "from keras.layers.recurrent import GRU\n",
    "from keras import optimizers\n",
    "from keras.callbacks import EarlyStopping\n",
    "from sklearn.preprocessing import MinMaxScaler\n",
    "from sklearn.metrics import mean_squared_error, r2_score\n",
    "from math import sqrt\n",
    "import datetime as dt\n",
    "import time\n",
    "plt.style.use('ggplot')"
   ]
  },
  {
   "cell_type": "markdown",
   "metadata": {},
   "source": [
    "### Data Preprocessing"
   ]
  },
  {
   "cell_type": "code",
   "execution_count": 8,
   "metadata": {
    "colab": {},
    "colab_type": "code",
    "id": "FNioyc6mZUAJ"
   },
   "outputs": [],
   "source": [
    "# Setting up an early stop\n",
    "earlystop = EarlyStopping(monitor='val_loss', min_delta=0.0001, patience=80,  verbose=1, mode='min')\n",
    "callbacks_list = [earlystop]"
   ]
  },
  {
   "cell_type": "code",
   "execution_count": 2,
   "metadata": {
    "colab": {},
    "colab_type": "code",
    "id": "r5O0a39R9Z_Z"
   },
   "outputs": [
    {
     "data": {
      "text/html": [
       "<div>\n",
       "<style scoped>\n",
       "    .dataframe tbody tr th:only-of-type {\n",
       "        vertical-align: middle;\n",
       "    }\n",
       "\n",
       "    .dataframe tbody tr th {\n",
       "        vertical-align: top;\n",
       "    }\n",
       "\n",
       "    .dataframe thead th {\n",
       "        text-align: right;\n",
       "    }\n",
       "</style>\n",
       "<table border=\"1\" class=\"dataframe\">\n",
       "  <thead>\n",
       "    <tr style=\"text-align: right;\">\n",
       "      <th></th>\n",
       "      <th>Open</th>\n",
       "      <th>High</th>\n",
       "      <th>Low</th>\n",
       "      <th>Close</th>\n",
       "      <th>Adj Close</th>\n",
       "      <th>Volume</th>\n",
       "    </tr>\n",
       "    <tr>\n",
       "      <th>Date</th>\n",
       "      <th></th>\n",
       "      <th></th>\n",
       "      <th></th>\n",
       "      <th></th>\n",
       "      <th></th>\n",
       "      <th></th>\n",
       "    </tr>\n",
       "  </thead>\n",
       "  <tbody>\n",
       "    <tr>\n",
       "      <th>2019-02-15</th>\n",
       "      <td>19.200001</td>\n",
       "      <td>19.639999</td>\n",
       "      <td>19.180000</td>\n",
       "      <td>19.590000</td>\n",
       "      <td>19.590000</td>\n",
       "      <td>146000</td>\n",
       "    </tr>\n",
       "    <tr>\n",
       "      <th>2019-02-19</th>\n",
       "      <td>19.500000</td>\n",
       "      <td>19.600000</td>\n",
       "      <td>19.100000</td>\n",
       "      <td>19.549999</td>\n",
       "      <td>19.549999</td>\n",
       "      <td>138100</td>\n",
       "    </tr>\n",
       "    <tr>\n",
       "      <th>2019-02-20</th>\n",
       "      <td>19.660000</td>\n",
       "      <td>20.059999</td>\n",
       "      <td>19.520000</td>\n",
       "      <td>19.920000</td>\n",
       "      <td>19.920000</td>\n",
       "      <td>133400</td>\n",
       "    </tr>\n",
       "    <tr>\n",
       "      <th>2019-02-21</th>\n",
       "      <td>19.740000</td>\n",
       "      <td>20.790001</td>\n",
       "      <td>19.530001</td>\n",
       "      <td>20.190001</td>\n",
       "      <td>20.190001</td>\n",
       "      <td>167000</td>\n",
       "    </tr>\n",
       "    <tr>\n",
       "      <th>2019-02-22</th>\n",
       "      <td>20.389999</td>\n",
       "      <td>21.080000</td>\n",
       "      <td>20.379999</td>\n",
       "      <td>21.000000</td>\n",
       "      <td>21.000000</td>\n",
       "      <td>434100</td>\n",
       "    </tr>\n",
       "  </tbody>\n",
       "</table>\n",
       "</div>"
      ],
      "text/plain": [
       "                 Open       High        Low      Close  Adj Close  Volume\n",
       "Date                                                                     \n",
       "2019-02-15  19.200001  19.639999  19.180000  19.590000  19.590000  146000\n",
       "2019-02-19  19.500000  19.600000  19.100000  19.549999  19.549999  138100\n",
       "2019-02-20  19.660000  20.059999  19.520000  19.920000  19.920000  133400\n",
       "2019-02-21  19.740000  20.790001  19.530001  20.190001  20.190001  167000\n",
       "2019-02-22  20.389999  21.080000  20.379999  21.000000  21.000000  434100"
      ]
     },
     "execution_count": 2,
     "metadata": {},
     "output_type": "execute_result"
    }
   ],
   "source": [
    "# Loading the dataset\n",
    "url = '../CSV.csv'\n",
    "df = pd.read_csv(url,parse_dates = True,index_col=0)\n",
    "df.tail()"
   ]
  },
  {
   "cell_type": "code",
   "execution_count": 3,
   "metadata": {
    "colab": {},
    "colab_type": "code",
    "id": "2H5Lkte_NgWT"
   },
   "outputs": [
    {
     "data": {
      "text/plain": [
       "Open         0.999440\n",
       "High         0.999733\n",
       "Low          0.999712\n",
       "Close        1.000000\n",
       "Adj Close    0.999319\n",
       "Volume       0.237297\n",
       "Name: Close, dtype: float64"
      ]
     },
     "execution_count": 3,
     "metadata": {},
     "output_type": "execute_result"
    }
   ],
   "source": [
    "# Correlation matrix\n",
    "df.corr()['Close']"
   ]
  },
  {
   "cell_type": "code",
   "execution_count": 4,
   "metadata": {},
   "outputs": [
    {
     "name": "stdout",
     "output_type": "stream",
     "text": [
      "count    5.672000e+03\n",
      "mean     6.335628e+04\n",
      "std      8.749770e+04\n",
      "min      0.000000e+00\n",
      "25%      1.850000e+04\n",
      "50%      3.985000e+04\n",
      "75%      7.900000e+04\n",
      "max      2.073400e+06\n",
      "Name: Volume, dtype: float64\n"
     ]
    }
   ],
   "source": [
    "print(df.describe().Volume) \n",
    "df.drop(df[df['Volume']==0].index, inplace = True) #Dropping rows with volume value 0"
   ]
  },
  {
   "cell_type": "code",
   "execution_count": 14,
   "metadata": {
    "colab": {},
    "colab_type": "code",
    "id": "zRVEzZ1FXj_p"
   },
   "outputs": [],
   "source": [
    "#Build and train the model\n",
    "def fit_model(train,val,timesteps,hl,lr,batch,epochs):\n",
    "    X_train = []\n",
    "    Y_train = []\n",
    "    X_val = []\n",
    "    Y_val = []\n",
    "  \n",
    "    # Loop for training data\n",
    "    for i in range(timesteps,train.shape[0]):\n",
    "        X_train.append(train[i-timesteps:i])\n",
    "        Y_train.append(train[i][0])\n",
    "    X_train,Y_train = np.array(X_train),np.array(Y_train)\n",
    "  \n",
    "    # Loop for val data\n",
    "    for i in range(timesteps,val.shape[0]):\n",
    "        X_val.append(val[i-timesteps:i])\n",
    "        Y_val.append(val[i][0])\n",
    "    X_val,Y_val = np.array(X_val),np.array(Y_val)\n",
    "  \n",
    "    # Adding Layers to the model\n",
    "    model = Sequential()\n",
    "    model.add(GRU(X_train.shape[2],input_shape = (X_train.shape[1],X_train.shape[2]),return_sequences = True,\n",
    "                  activation = 'relu'))\n",
    "    for i in range(len(hl)-1):        \n",
    "        model.add(GRU(hl[i],activation = 'relu',return_sequences = True))\n",
    "    model.add(GRU(hl[-1],activation = 'relu'))\n",
    "    model.add(Dense(1))\n",
    "    model.compile(optimizer = optimizers.Adam(lr = lr), loss = 'mean_squared_error')\n",
    "  \n",
    "    # Training the data\n",
    "    history = model.fit(X_train,Y_train,epochs = epochs,batch_size = batch,validation_data = (X_val, Y_val),verbose = 0,\n",
    "                        shuffle = False, callbacks=callbacks_list)\n",
    "    model.reset_states()\n",
    "    return model, history.history['loss'], history.history['val_loss']\n",
    "  "
   ]
  },
  {
   "cell_type": "code",
   "execution_count": 6,
   "metadata": {
    "colab": {},
    "colab_type": "code",
    "id": "LpwHmJeQJqyI"
   },
   "outputs": [],
   "source": [
    "# Evaluating the model\n",
    "def evaluate_model(model,test,timesteps):\n",
    "    X_test = []\n",
    "    Y_test = []\n",
    "\n",
    "    # Loop for testing data\n",
    "    for i in range(timesteps,test.shape[0]):\n",
    "        X_test.append(test[i-timesteps:i])\n",
    "        Y_test.append(test[i][0])\n",
    "    X_test,Y_test = np.array(X_test),np.array(Y_test)\n",
    "  \n",
    "    # Prediction Time !!!!\n",
    "    Y_hat = model.predict(X_test)\n",
    "    mse = mean_squared_error(Y_test,Y_hat)\n",
    "    rmse = sqrt(mse)\n",
    "    r2 = r2_score(Y_test,Y_hat)\n",
    "    return mse,rmse, r2, Y_test, Y_hat\n",
    "  "
   ]
  },
  {
   "cell_type": "code",
   "execution_count": 7,
   "metadata": {
    "colab": {},
    "colab_type": "code",
    "id": "pI0q18ajCLx6"
   },
   "outputs": [],
   "source": [
    "# Plotting the predictions\n",
    "def plot_data(Y_test,Y_hat):\n",
    "    plt.plot(Y_test,c = 'r')\n",
    "    plt.plot(Y_hat,c = 'y')\n",
    "    plt.xlabel('Day')\n",
    "    plt.ylabel('Price')\n",
    "    plt.title(\"Stock Price Prediction using Multivariate-GRU\")\n",
    "    plt.legend(['Actual','Predicted'],loc = 'lower right')\n",
    "    plt.show()"
   ]
  },
  {
   "cell_type": "code",
   "execution_count": 8,
   "metadata": {
    "colab": {},
    "colab_type": "code",
    "id": "4NeqKRBZZr0Q"
   },
   "outputs": [],
   "source": [
    "# Plotting the training errors\n",
    "def plot_error(train_loss,val_loss):\n",
    "    plt.plot(train_loss,c = 'r')\n",
    "    plt.plot(val_loss,c = 'b')\n",
    "    plt.ylabel('Loss')\n",
    "    plt.xlabel('Epochs')\n",
    "    plt.title('Loss Plot')\n",
    "    plt.legend(['train','val'],loc = 'lower right')\n",
    "    plt.show()"
   ]
  },
  {
   "cell_type": "markdown",
   "metadata": {},
   "source": [
    "### Model Building"
   ]
  },
  {
   "cell_type": "code",
   "execution_count": 9,
   "metadata": {
    "colab": {},
    "colab_type": "code",
    "id": "gAvOMIyjIQO-"
   },
   "outputs": [
    {
     "name": "stdout",
     "output_type": "stream",
     "text": [
      "(5670, 3)\n",
      "                Close       High  Volume\n",
      "Date                                    \n",
      "2019-02-15  19.590000  19.639999  146000\n",
      "2019-02-19  19.549999  19.600000  138100\n",
      "2019-02-20  19.920000  20.059999  133400\n",
      "2019-02-21  20.190001  20.790001  167000\n",
      "2019-02-22  21.000000  21.080000  434100\n"
     ]
    }
   ],
   "source": [
    "# Extracting the series\n",
    "series = df[['Close','High','Volume']] # Picking the features\n",
    "print(series.shape)\n",
    "print(series.tail())"
   ]
  },
  {
   "cell_type": "code",
   "execution_count": 10,
   "metadata": {
    "colab": {},
    "colab_type": "code",
    "id": "Tjso-RjNDmbs"
   },
   "outputs": [
    {
     "name": "stdout",
     "output_type": "stream",
     "text": [
      "(2515, 3) (504, 3) (503, 3)\n"
     ]
    }
   ],
   "source": [
    "# Train Val Test Split\n",
    "train_start = dt.date(1997,1,1)\n",
    "train_end = dt.date(2006,12,31)\n",
    "train_data = series.loc[train_start:train_end]\n",
    "\n",
    "val_start = dt.date(2007,1,1)\n",
    "val_end = dt.date(2008,12,31)\n",
    "val_data = series.loc[val_start:val_end]\n",
    "\n",
    "test_start = dt.date(2009,1,1)\n",
    "test_end = dt.date(2010,12,31)\n",
    "test_data = series.loc[test_start:test_end]\n",
    "\n",
    "print(train_data.shape,val_data.shape,test_data.shape)"
   ]
  },
  {
   "cell_type": "code",
   "execution_count": 11,
   "metadata": {
    "colab": {},
    "colab_type": "code",
    "id": "NWXR5oL2ZnY4"
   },
   "outputs": [
    {
     "name": "stdout",
     "output_type": "stream",
     "text": [
      "(2515, 3) (504, 3) (503, 3)\n"
     ]
    },
    {
     "name": "stderr",
     "output_type": "stream",
     "text": [
      "C:\\Users\\Navodit\\Miniconda3\\lib\\site-packages\\sklearn\\preprocessing\\data.py:323: DataConversionWarning: Data with input dtype int64, float64 were all converted to float64 by MinMaxScaler.\n",
      "  return self.partial_fit(X, y)\n"
     ]
    }
   ],
   "source": [
    "# Normalisation\n",
    "sc = MinMaxScaler()\n",
    "train = sc.fit_transform(train_data)\n",
    "val = sc.transform(val_data)\n",
    "test = sc.transform(test_data)\n",
    "print(train.shape,val.shape,test.shape)"
   ]
  },
  {
   "cell_type": "code",
   "execution_count": 12,
   "metadata": {},
   "outputs": [],
   "source": [
    "timesteps = 40\n",
    "hl = [40,35]\n",
    "lr = 1e-4\n",
    "batch_size = 64\n",
    "num_epochs = 200"
   ]
  },
  {
   "cell_type": "code",
   "execution_count": 16,
   "metadata": {},
   "outputs": [
    {
     "data": {
      "image/png": "[encoded data removed]",
      "text/plain": [
       "<Figure size 432x288 with 1 Axes>"
      ]
     },
     "metadata": {
      "needs_background": "light"
     },
     "output_type": "display_data"
    }
   ],
   "source": [
    "model,train_error,val_error = fit_model(train,val,timesteps,hl,lr,batch_size,num_epochs)\n",
    "plot_error(train_error,val_error)"
   ]
  },
  {
   "cell_type": "code",
   "execution_count": 19,
   "metadata": {},
   "outputs": [
    {
     "name": "stdout",
     "output_type": "stream",
     "text": [
      "MSE = 4.207981713573883e-05\n",
      "RMSE = 0.006486895801208682\n",
      "R2-Score = 0.9610534713455121\n"
     ]
    },
    {
     "data": {
      "image/png": "[encoded data removed]",
      "text/plain": [
       "<Figure size 432x288 with 1 Axes>"
      ]
     },
     "metadata": {
      "needs_background": "light"
     },
     "output_type": "display_data"
    }
   ],
   "source": [
    "mse,rmse,r2_value,true,predicted = evaluate_model(model,test,40)\n",
    "print(\"MSE =\",mse)\n",
    "print(\"RMSE =\",rmse)\n",
    "print(\"R2-Score =\",r2_value)\n",
    "plot_data(true,predicted)"
   ]
  }
 ],
 "metadata": {
  "accelerator": "TPU",
  "colab": {
   "collapsed_sections": [],
   "name": "Multivariate-3-GRU.ipynb",
   "provenance": [
    {
     "file_id": "1ANiwUb7Hem1MxFKaX-BUbbEjAGAmJ2l8",
     "timestamp": 1551229090275
    },
    {
     "file_id": "1TbS1iN6r9LWkUIIg2eyr5EB0pIzV5yAK",
     "timestamp": 1551228758851
    },
    {
     "file_id": "1iQNCZLjJhQ56R4aZ1sLrnNQ4PS2KfN2m",
     "timestamp": 1551146300148
    },
    {
     "file_id": "1OKnKPBI38XYPGQW0xUAj0nnJbfO6SuXE",
     "timestamp": 1550670800726
    }
   ],
   "version": "0.3.2"
  },
  "kernelspec": {
   "display_name": "Python 3",
   "language": "python",
   "name": "python3"
  },
  "language_info": {
   "codemirror_mode": {
    "name": "ipython",
    "version": 3
   },
   "file_extension": ".py",
   "mimetype": "text/x-python",
   "name": "python",
   "nbconvert_exporter": "python",
   "pygments_lexer": "ipython3",
   "version": "3.8.8"
  }
 },
 "nbformat": 4,
 "nbformat_minor": 1
}
